{
 "cells": [
  {
   "cell_type": "code",
   "execution_count": 2,
   "metadata": {
    "collapsed": true
   },
   "outputs": [],
   "source": [
    "import sqlite3\n",
    "import pandas as pd\n",
    "import matplotlib\n",
    "%matplotlib inline\n",
    "\n",
    "def run_query(q):\n",
    "    with sqlite3.connect('chinook.db') as conn:\n",
    "        return pd.read_sql(q,conn)\n",
    "\n",
    "def run_command(c):\n",
    "    with sqlite3.connect('chinook.db') as conn:\n",
    "        conn.isolation_level = None\n",
    "        conn.execute(c)\n",
    "\n",
    "def show_tables():\n",
    "    return run_query('SELECT name, type FROM sqlite_master WHERE type IN (\"table\", \"view\")')"
   ]
  },
  {
   "cell_type": "code",
   "execution_count": 2,
   "metadata": {
    "collapsed": false
   },
   "outputs": [
    {
     "data": {
      "text/html": [
       "<div>\n",
       "<table border=\"1\" class=\"dataframe\">\n",
       "  <thead>\n",
       "    <tr style=\"text-align: right;\">\n",
       "      <th></th>\n",
       "      <th>name</th>\n",
       "      <th>type</th>\n",
       "    </tr>\n",
       "  </thead>\n",
       "  <tbody>\n",
       "    <tr>\n",
       "      <th>0</th>\n",
       "      <td>album</td>\n",
       "      <td>table</td>\n",
       "    </tr>\n",
       "    <tr>\n",
       "      <th>1</th>\n",
       "      <td>artist</td>\n",
       "      <td>table</td>\n",
       "    </tr>\n",
       "    <tr>\n",
       "      <th>2</th>\n",
       "      <td>customer</td>\n",
       "      <td>table</td>\n",
       "    </tr>\n",
       "    <tr>\n",
       "      <th>3</th>\n",
       "      <td>employee</td>\n",
       "      <td>table</td>\n",
       "    </tr>\n",
       "    <tr>\n",
       "      <th>4</th>\n",
       "      <td>genre</td>\n",
       "      <td>table</td>\n",
       "    </tr>\n",
       "    <tr>\n",
       "      <th>5</th>\n",
       "      <td>invoice</td>\n",
       "      <td>table</td>\n",
       "    </tr>\n",
       "    <tr>\n",
       "      <th>6</th>\n",
       "      <td>invoice_line</td>\n",
       "      <td>table</td>\n",
       "    </tr>\n",
       "    <tr>\n",
       "      <th>7</th>\n",
       "      <td>media_type</td>\n",
       "      <td>table</td>\n",
       "    </tr>\n",
       "    <tr>\n",
       "      <th>8</th>\n",
       "      <td>playlist</td>\n",
       "      <td>table</td>\n",
       "    </tr>\n",
       "    <tr>\n",
       "      <th>9</th>\n",
       "      <td>playlist_track</td>\n",
       "      <td>table</td>\n",
       "    </tr>\n",
       "    <tr>\n",
       "      <th>10</th>\n",
       "      <td>track</td>\n",
       "      <td>table</td>\n",
       "    </tr>\n",
       "  </tbody>\n",
       "</table>\n",
       "</div>"
      ],
      "text/plain": [
       "              name   type\n",
       "0            album  table\n",
       "1           artist  table\n",
       "2         customer  table\n",
       "3         employee  table\n",
       "4            genre  table\n",
       "5          invoice  table\n",
       "6     invoice_line  table\n",
       "7       media_type  table\n",
       "8         playlist  table\n",
       "9   playlist_track  table\n",
       "10           track  table"
      ]
     },
     "execution_count": 2,
     "metadata": {},
     "output_type": "execute_result"
    }
   ],
   "source": [
    "show_tables()"
   ]
  },
  {
   "cell_type": "code",
   "execution_count": 34,
   "metadata": {
    "collapsed": false
   },
   "outputs": [
    {
     "data": {
      "text/html": [
       "<div>\n",
       "<table border=\"1\" class=\"dataframe\">\n",
       "  <thead>\n",
       "    <tr style=\"text-align: right;\">\n",
       "      <th></th>\n",
       "      <th>invoice_id</th>\n",
       "      <th>track_id</th>\n",
       "    </tr>\n",
       "  </thead>\n",
       "  <tbody>\n",
       "    <tr>\n",
       "      <th>0</th>\n",
       "      <td>1</td>\n",
       "      <td>1158</td>\n",
       "    </tr>\n",
       "    <tr>\n",
       "      <th>1</th>\n",
       "      <td>1</td>\n",
       "      <td>1159</td>\n",
       "    </tr>\n",
       "    <tr>\n",
       "      <th>2</th>\n",
       "      <td>1</td>\n",
       "      <td>1160</td>\n",
       "    </tr>\n",
       "    <tr>\n",
       "      <th>3</th>\n",
       "      <td>1</td>\n",
       "      <td>1161</td>\n",
       "    </tr>\n",
       "    <tr>\n",
       "      <th>4</th>\n",
       "      <td>1</td>\n",
       "      <td>1162</td>\n",
       "    </tr>\n",
       "  </tbody>\n",
       "</table>\n",
       "</div>"
      ],
      "text/plain": [
       "   invoice_id  track_id\n",
       "0           1      1158\n",
       "1           1      1159\n",
       "2           1      1160\n",
       "3           1      1161\n",
       "4           1      1162"
      ]
     },
     "execution_count": 34,
     "metadata": {},
     "output_type": "execute_result"
    }
   ],
   "source": [
    "usa_invoices = run_query('''SELECT\n",
    "                                i.invoice_id,\n",
    "                                il.track_id\n",
    "                             FROM invoice i\n",
    "                             INNER JOIN customer c ON c.customer_id = i.customer_id\n",
    "                             INNER JOIN invoice_line il ON il.invoice_id = i.invoice_id\n",
    "                             WHERE c.country = \"USA\"''')\n",
    "usa_invoices.head(5)\n",
    "                              "
   ]
  },
  {
   "cell_type": "code",
   "execution_count": 35,
   "metadata": {
    "collapsed": false
   },
   "outputs": [],
   "source": [
    "track_genre = run_query('''WITH\n",
    "                            track_genre AS\n",
    "                            (\n",
    "                                SELECT \n",
    "                                    t.track_id,\n",
    "                                    g.name genre\n",
    "                                FROM track t\n",
    "                                INNER JOIN genre g ON g.genre_id = t.genre_id\n",
    "                             ),\n",
    "                             USA_customers AS\n",
    "                             (\n",
    "                                 SELECT\n",
    "                                    i.invoice_id,\n",
    "                                    il.track_id\n",
    "                                 FROM invoice i\n",
    "                                 INNER JOIN customer c ON c.customer_id = i.customer_id\n",
    "                                 INNER JOIN invoice_line il ON il.invoice_id = i.invoice_id\n",
    "                                 WHERE c.country = \"USA\"\n",
    "                              )\n",
    "                            SELECT \n",
    "                                tg.genre,\n",
    "                                COUNT(us.track_id) total_tracks,\n",
    "                                CAST(COUNT(us.track_id) as float)/(SELECT CAST(COUNT(track_id) as float) FROM USA_customers) * 100 percentage\n",
    "                            FROM track_genre tg\n",
    "                            INNER JOIN USA_customers us ON tg.track_id = us.track_id\n",
    "                            GROUP BY tg.genre\n",
    "                            ORDER BY total_tracks DESC;''')\n",
    "\n"
   ]
  },
  {
   "cell_type": "code",
   "execution_count": 36,
   "metadata": {
    "collapsed": false
   },
   "outputs": [
    {
     "data": {
      "text/html": [
       "<div>\n",
       "<table border=\"1\" class=\"dataframe\">\n",
       "  <thead>\n",
       "    <tr style=\"text-align: right;\">\n",
       "      <th></th>\n",
       "      <th>genre</th>\n",
       "      <th>total_tracks</th>\n",
       "      <th>percentage</th>\n",
       "    </tr>\n",
       "  </thead>\n",
       "  <tbody>\n",
       "    <tr>\n",
       "      <th>0</th>\n",
       "      <td>Rock</td>\n",
       "      <td>561</td>\n",
       "      <td>53.377735</td>\n",
       "    </tr>\n",
       "    <tr>\n",
       "      <th>1</th>\n",
       "      <td>Alternative &amp; Punk</td>\n",
       "      <td>130</td>\n",
       "      <td>12.369172</td>\n",
       "    </tr>\n",
       "    <tr>\n",
       "      <th>2</th>\n",
       "      <td>Metal</td>\n",
       "      <td>124</td>\n",
       "      <td>11.798287</td>\n",
       "    </tr>\n",
       "    <tr>\n",
       "      <th>3</th>\n",
       "      <td>R&amp;B/Soul</td>\n",
       "      <td>53</td>\n",
       "      <td>5.042816</td>\n",
       "    </tr>\n",
       "    <tr>\n",
       "      <th>4</th>\n",
       "      <td>Blues</td>\n",
       "      <td>36</td>\n",
       "      <td>3.425309</td>\n",
       "    </tr>\n",
       "    <tr>\n",
       "      <th>5</th>\n",
       "      <td>Alternative</td>\n",
       "      <td>35</td>\n",
       "      <td>3.330162</td>\n",
       "    </tr>\n",
       "    <tr>\n",
       "      <th>6</th>\n",
       "      <td>Latin</td>\n",
       "      <td>22</td>\n",
       "      <td>2.093245</td>\n",
       "    </tr>\n",
       "    <tr>\n",
       "      <th>7</th>\n",
       "      <td>Pop</td>\n",
       "      <td>22</td>\n",
       "      <td>2.093245</td>\n",
       "    </tr>\n",
       "    <tr>\n",
       "      <th>8</th>\n",
       "      <td>Hip Hop/Rap</td>\n",
       "      <td>20</td>\n",
       "      <td>1.902950</td>\n",
       "    </tr>\n",
       "    <tr>\n",
       "      <th>9</th>\n",
       "      <td>Jazz</td>\n",
       "      <td>14</td>\n",
       "      <td>1.332065</td>\n",
       "    </tr>\n",
       "    <tr>\n",
       "      <th>10</th>\n",
       "      <td>Easy Listening</td>\n",
       "      <td>13</td>\n",
       "      <td>1.236917</td>\n",
       "    </tr>\n",
       "    <tr>\n",
       "      <th>11</th>\n",
       "      <td>Reggae</td>\n",
       "      <td>6</td>\n",
       "      <td>0.570885</td>\n",
       "    </tr>\n",
       "    <tr>\n",
       "      <th>12</th>\n",
       "      <td>Electronica/Dance</td>\n",
       "      <td>5</td>\n",
       "      <td>0.475737</td>\n",
       "    </tr>\n",
       "    <tr>\n",
       "      <th>13</th>\n",
       "      <td>Classical</td>\n",
       "      <td>4</td>\n",
       "      <td>0.380590</td>\n",
       "    </tr>\n",
       "    <tr>\n",
       "      <th>14</th>\n",
       "      <td>Heavy Metal</td>\n",
       "      <td>3</td>\n",
       "      <td>0.285442</td>\n",
       "    </tr>\n",
       "    <tr>\n",
       "      <th>15</th>\n",
       "      <td>Soundtrack</td>\n",
       "      <td>2</td>\n",
       "      <td>0.190295</td>\n",
       "    </tr>\n",
       "    <tr>\n",
       "      <th>16</th>\n",
       "      <td>TV Shows</td>\n",
       "      <td>1</td>\n",
       "      <td>0.095147</td>\n",
       "    </tr>\n",
       "  </tbody>\n",
       "</table>\n",
       "</div>"
      ],
      "text/plain": [
       "                 genre  total_tracks  percentage\n",
       "0                 Rock           561   53.377735\n",
       "1   Alternative & Punk           130   12.369172\n",
       "2                Metal           124   11.798287\n",
       "3             R&B/Soul            53    5.042816\n",
       "4                Blues            36    3.425309\n",
       "5          Alternative            35    3.330162\n",
       "6                Latin            22    2.093245\n",
       "7                  Pop            22    2.093245\n",
       "8          Hip Hop/Rap            20    1.902950\n",
       "9                 Jazz            14    1.332065\n",
       "10      Easy Listening            13    1.236917\n",
       "11              Reggae             6    0.570885\n",
       "12   Electronica/Dance             5    0.475737\n",
       "13           Classical             4    0.380590\n",
       "14         Heavy Metal             3    0.285442\n",
       "15          Soundtrack             2    0.190295\n",
       "16            TV Shows             1    0.095147"
      ]
     },
     "execution_count": 36,
     "metadata": {},
     "output_type": "execute_result"
    }
   ],
   "source": [
    "track_genre"
   ]
  },
  {
   "cell_type": "code",
   "execution_count": 37,
   "metadata": {
    "collapsed": false
   },
   "outputs": [
    {
     "data": {
      "text/plain": [
       "<matplotlib.axes._subplots.AxesSubplot at 0x7f5e833b5ac8>"
      ]
     },
     "execution_count": 37,
     "metadata": {},
     "output_type": "execute_result"
    },
    {
     "data": {
      "image/png": "[encoded data removed]",
      "text/plain": [
       "<matplotlib.figure.Figure at 0x7f5e8bb68b70>"
      ]
     },
     "metadata": {},
     "output_type": "display_data"
    },
    {
     "data": {
      "image/png": "[encoded data removed]",
      "text/plain": [
       "<matplotlib.figure.Figure at 0x7f5e8540e940>"
      ]
     },
     "metadata": {},
     "output_type": "display_data"
    }
   ],
   "source": [
    "track_genre.plot.bar(x='genre', y='total_tracks')\n",
    "track_genre.plot.bar(x='genre', y='percentage')"
   ]
  },
  {
   "cell_type": "markdown",
   "metadata": {},
   "source": [
    "## Most popular genre in USA by track purchases\n",
    "\n",
    "The table above, as well as the corresponding bar graphs illustrate the most popular music genres according to track purchases in Chinook. By far, `Rock` is the most popular genre among U.S. customers, followed by `Alternative & Punk`, `Metal`, `R&B\\Soul`, and `Blues`. `Pop` music is slightly more popular than `Hip Hop\\Rap`, by 0.1 percentage points. \n",
    "\n",
    "Given the above findings, I recommend that the artists Red Tone (`Punk`), Slim Jim Bites (`Blues`), and Meteor and the Girls (`Pop`) be added to the Chinook store to be marketed in the USA."
   ]
  },
  {
   "cell_type": "code",
   "execution_count": 45,
   "metadata": {
    "collapsed": false
   },
   "outputs": [],
   "source": [
    "employee_total_assigned = run_query('''WITH customer_purchases AS\n",
    "              (\n",
    "                  SELECT\n",
    "                      c.customer_id,\n",
    "                      c.support_rep_id,\n",
    "                      SUM(i.total) total_purchases\n",
    "                  FROM customer c\n",
    "                  INNER JOIN invoice i ON i.customer_id = c.customer_id\n",
    "                  GROUP BY c.customer_id\n",
    "               )\n",
    "               \n",
    "               SELECT \n",
    "                   e.last_name||', '||e.first_name employee_name,\n",
    "                   e.title,\n",
    "                   SUM(cp.total_purchases) total_assigned\n",
    "               FROM employee e\n",
    "               INNER JOIN customer_purchases cp ON cp.support_rep_id = e.employee_id\n",
    "               GROUP BY employee_name\n",
    "               ORDER BY total_assigned DESC;\n",
    "            ''')"
   ]
  },
  {
   "cell_type": "code",
   "execution_count": 46,
   "metadata": {
    "collapsed": false
   },
   "outputs": [
    {
     "data": {
      "text/html": [
       "<div>\n",
       "<table border=\"1\" class=\"dataframe\">\n",
       "  <thead>\n",
       "    <tr style=\"text-align: right;\">\n",
       "      <th></th>\n",
       "      <th>employee_name</th>\n",
       "      <th>title</th>\n",
       "      <th>total_assigned</th>\n",
       "    </tr>\n",
       "  </thead>\n",
       "  <tbody>\n",
       "    <tr>\n",
       "      <th>0</th>\n",
       "      <td>Peacock, Jane</td>\n",
       "      <td>Sales Support Agent</td>\n",
       "      <td>1731.51</td>\n",
       "    </tr>\n",
       "    <tr>\n",
       "      <th>1</th>\n",
       "      <td>Park, Margaret</td>\n",
       "      <td>Sales Support Agent</td>\n",
       "      <td>1584.00</td>\n",
       "    </tr>\n",
       "    <tr>\n",
       "      <th>2</th>\n",
       "      <td>Johnson, Steve</td>\n",
       "      <td>Sales Support Agent</td>\n",
       "      <td>1393.92</td>\n",
       "    </tr>\n",
       "  </tbody>\n",
       "</table>\n",
       "</div>"
      ],
      "text/plain": [
       "    employee_name                title  total_assigned\n",
       "0   Peacock, Jane  Sales Support Agent         1731.51\n",
       "1  Park, Margaret  Sales Support Agent         1584.00\n",
       "2  Johnson, Steve  Sales Support Agent         1393.92"
      ]
     },
     "execution_count": 46,
     "metadata": {},
     "output_type": "execute_result"
    }
   ],
   "source": [
    "employee_total_assigned"
   ]
  },
  {
   "cell_type": "code",
   "execution_count": 47,
   "metadata": {
    "collapsed": false
   },
   "outputs": [
    {
     "data": {
      "text/plain": [
       "<matplotlib.axes._subplots.AxesSubplot at 0x7f5e8329d5c0>"
      ]
     },
     "execution_count": 47,
     "metadata": {},
     "output_type": "execute_result"
    },
    {
     "data": {
      "image/png": "[encoded data removed]",
      "text/plain": [
       "<matplotlib.figure.Figure at 0x7f5e832d47b8>"
      ]
     },
     "metadata": {},
     "output_type": "display_data"
    }
   ],
   "source": [
    "employee_total_assigned.plot.bar(x='employee_name', y='total_assigned')"
   ]
  },
  {
   "cell_type": "markdown",
   "metadata": {},
   "source": [
    "## Top Support Staff\n",
    "\n",
    "According to the analysis Jane Peacock is the top Sales Support Agent at Chinook, followed by Margaret Park and Steve Johnson."
   ]
  },
  {
   "cell_type": "code",
   "execution_count": 72,
   "metadata": {
    "collapsed": false,
    "scrolled": true
   },
   "outputs": [
    {
     "data": {
      "text/html": [
       "<div>\n",
       "<table border=\"1\" class=\"dataframe\">\n",
       "  <thead>\n",
       "    <tr style=\"text-align: right;\">\n",
       "      <th></th>\n",
       "      <th>country</th>\n",
       "      <th>total_customers</th>\n",
       "      <th>total_sales</th>\n",
       "      <th>customer_avg_sales</th>\n",
       "      <th>order_avg_value</th>\n",
       "    </tr>\n",
       "  </thead>\n",
       "  <tbody>\n",
       "    <tr>\n",
       "      <th>0</th>\n",
       "      <td>USA</td>\n",
       "      <td>13</td>\n",
       "      <td>1040.49</td>\n",
       "      <td>80.037692</td>\n",
       "      <td>7.942672</td>\n",
       "    </tr>\n",
       "    <tr>\n",
       "      <th>1</th>\n",
       "      <td>Canada</td>\n",
       "      <td>8</td>\n",
       "      <td>535.59</td>\n",
       "      <td>66.948750</td>\n",
       "      <td>7.047237</td>\n",
       "    </tr>\n",
       "    <tr>\n",
       "      <th>2</th>\n",
       "      <td>Brazil</td>\n",
       "      <td>5</td>\n",
       "      <td>427.68</td>\n",
       "      <td>85.536000</td>\n",
       "      <td>7.011148</td>\n",
       "    </tr>\n",
       "    <tr>\n",
       "      <th>3</th>\n",
       "      <td>France</td>\n",
       "      <td>5</td>\n",
       "      <td>389.07</td>\n",
       "      <td>77.814000</td>\n",
       "      <td>7.781400</td>\n",
       "    </tr>\n",
       "    <tr>\n",
       "      <th>4</th>\n",
       "      <td>Germany</td>\n",
       "      <td>4</td>\n",
       "      <td>334.62</td>\n",
       "      <td>83.655000</td>\n",
       "      <td>8.161463</td>\n",
       "    </tr>\n",
       "    <tr>\n",
       "      <th>5</th>\n",
       "      <td>Czech Republic</td>\n",
       "      <td>2</td>\n",
       "      <td>273.24</td>\n",
       "      <td>136.620000</td>\n",
       "      <td>9.108000</td>\n",
       "    </tr>\n",
       "    <tr>\n",
       "      <th>6</th>\n",
       "      <td>United Kingdom</td>\n",
       "      <td>3</td>\n",
       "      <td>245.52</td>\n",
       "      <td>81.840000</td>\n",
       "      <td>8.768571</td>\n",
       "    </tr>\n",
       "    <tr>\n",
       "      <th>7</th>\n",
       "      <td>Portugal</td>\n",
       "      <td>2</td>\n",
       "      <td>185.13</td>\n",
       "      <td>92.565000</td>\n",
       "      <td>6.383793</td>\n",
       "    </tr>\n",
       "    <tr>\n",
       "      <th>8</th>\n",
       "      <td>India</td>\n",
       "      <td>2</td>\n",
       "      <td>183.15</td>\n",
       "      <td>91.575000</td>\n",
       "      <td>8.721429</td>\n",
       "    </tr>\n",
       "    <tr>\n",
       "      <th>9</th>\n",
       "      <td>Other</td>\n",
       "      <td>15</td>\n",
       "      <td>1094.94</td>\n",
       "      <td>72.996000</td>\n",
       "      <td>7.445071</td>\n",
       "    </tr>\n",
       "  </tbody>\n",
       "</table>\n",
       "</div>"
      ],
      "text/plain": [
       "          country  total_customers  total_sales  customer_avg_sales  \\\n",
       "0             USA               13      1040.49           80.037692   \n",
       "1          Canada                8       535.59           66.948750   \n",
       "2          Brazil                5       427.68           85.536000   \n",
       "3          France                5       389.07           77.814000   \n",
       "4         Germany                4       334.62           83.655000   \n",
       "5  Czech Republic                2       273.24          136.620000   \n",
       "6  United Kingdom                3       245.52           81.840000   \n",
       "7        Portugal                2       185.13           92.565000   \n",
       "8           India                2       183.15           91.575000   \n",
       "9           Other               15      1094.94           72.996000   \n",
       "\n",
       "   order_avg_value  \n",
       "0         7.942672  \n",
       "1         7.047237  \n",
       "2         7.011148  \n",
       "3         7.781400  \n",
       "4         8.161463  \n",
       "5         9.108000  \n",
       "6         8.768571  \n",
       "7         6.383793  \n",
       "8         8.721429  \n",
       "9         7.445071  "
      ]
     },
     "execution_count": 72,
     "metadata": {},
     "output_type": "execute_result"
    }
   ],
   "source": [
    "run_query(''' WITH quant AS\n",
    "              (\n",
    "                  SELECT\n",
    "                      CASE\n",
    "                        WHEN COUNT(DISTINCT c.customer_id) = 1 THEN \"Other\"\n",
    "                        ELSE c.country\n",
    "                      END country,\n",
    "                      COUNT(DISTINCT c.customer_id) total_customers,\n",
    "                      SUM(i.total) total_sales,\n",
    "                      SUM(i.total) / COUNT(DISTINCT i.customer_id) customer_avg_sales,\n",
    "                      SUM(i.total) / COUNT(i.invoice_id) order_avg_value\n",
    "                  FROM invoice i \n",
    "                  INNER JOIN customer c ON c.customer_id = i.customer_id\n",
    "                  GROUP BY country\n",
    "              ), consolidate_other AS\n",
    "              (\n",
    "                  SELECT \n",
    "                      country,\n",
    "                      SUM(total_customers) total_customers,\n",
    "                      SUM(total_sales) total_sales,\n",
    "                      SUM(customer_avg_sales) / COUNT(customer_avg_sales) customer_avg_sales,\n",
    "                      SUM(order_avg_value) / COUNT(order_avg_value) order_avg_value\n",
    "                  FROM quant\n",
    "                  GROUP BY country\n",
    "              ), sort AS\n",
    "              (\n",
    "                  SELECT\n",
    "                      co.*,\n",
    "                      CASE\n",
    "                          WHEN country = \"Other\" THEN 1\n",
    "                          ELSE 0\n",
    "                      END sort\n",
    "                  FROM consolidate_other co\n",
    "              )\n",
    "              \n",
    "              SELECT \n",
    "                  country,\n",
    "                  total_customers,\n",
    "                  total_sales,\n",
    "                  customer_avg_sales,\n",
    "                  order_avg_value\n",
    "              FROM sort\n",
    "              ORDER BY sort, total_sales DESC;''')\n",
    "\n"
   ]
  },
  {
   "cell_type": "code",
   "execution_count": 73,
   "metadata": {
    "collapsed": true
   },
   "outputs": [],
   "source": [
    "country_description = run_query(''' WITH quant AS\n",
    "              (\n",
    "                  SELECT\n",
    "                      CASE\n",
    "                        WHEN COUNT(DISTINCT c.customer_id) = 1 THEN \"Other\"\n",
    "                        ELSE c.country\n",
    "                      END country,\n",
    "                      COUNT(DISTINCT c.customer_id) total_customers,\n",
    "                      SUM(i.total) total_sales,\n",
    "                      SUM(i.total) / COUNT(DISTINCT i.customer_id) customer_avg_sales,\n",
    "                      SUM(i.total) / COUNT(i.invoice_id) order_avg_value\n",
    "                  FROM invoice i \n",
    "                  INNER JOIN customer c ON c.customer_id = i.customer_id\n",
    "                  GROUP BY country\n",
    "              ), consolidate_other AS\n",
    "              (\n",
    "                  SELECT \n",
    "                      country,\n",
    "                      SUM(total_customers) total_customers,\n",
    "                      SUM(total_sales) total_sales,\n",
    "                      SUM(customer_avg_sales) / COUNT(customer_avg_sales) customer_avg_sales,\n",
    "                      SUM(order_avg_value) / COUNT(order_avg_value) order_avg_value\n",
    "                  FROM quant\n",
    "                  GROUP BY country\n",
    "              ), sort AS\n",
    "              (\n",
    "                  SELECT\n",
    "                      co.*,\n",
    "                      CASE\n",
    "                          WHEN country = \"Other\" THEN 1\n",
    "                          ELSE 0\n",
    "                      END sort\n",
    "                  FROM consolidate_other co\n",
    "              )\n",
    "              \n",
    "              SELECT \n",
    "                  country,\n",
    "                  total_customers,\n",
    "                  total_sales,\n",
    "                  customer_avg_sales,\n",
    "                  order_avg_value\n",
    "              FROM sort\n",
    "              ORDER BY sort, total_sales DESC;''')\n",
    "\n"
   ]
  },
  {
   "cell_type": "markdown",
   "metadata": {},
   "source": [
    "## Update on where we are in this lesson\n",
    "\n",
    "Finally finished that unholy query. Though, honestly, I hope we learned a lesson. We basically thought of that solution hours ago, but were so convinced that there had to be another way to do it that we refused to implement it. Next time, implement the damn plan. \n",
    "\n",
    "#### Part 6\n",
    "Is all visualization so we're skipping it and getting right into Part 7 (current page) which I believe is going to be about `SET OPERATIONS`. Yay SQL."
   ]
  },
  {
   "cell_type": "markdown",
   "metadata": {
    "collapsed": false
   },
   "source": [
    "## Solutions\n",
    "\n",
    "I had a hard time with this one. In fact, I had to turn to other solutions to see how people had completed this one. Here are the three ways:\n",
    "\n",
    "- *Q&A Solution*\n",
    "    - This solution does not use the `EXCEPT` operation recommended by DataQuest, but rather seems to look for instances where `invoice_id` occurred once after grouping by `invoice_id` and `album_id`. The double grouping allowed invoices with multiple albums to show up in multiple lines, opposed to grouping only by `invoice_id` which would have consolidated the data into one line per `invoice_id`. \n",
    "    - One note, this is not the exact query the other user utilized. Instead I'm writing my query based on their reasoning. "
   ]
  },
  {
   "cell_type": "code",
   "execution_count": 14,
   "metadata": {
    "collapsed": false
   },
   "outputs": [
    {
     "data": {
      "text/html": [
       "<div>\n",
       "<table border=\"1\" class=\"dataframe\">\n",
       "  <thead>\n",
       "    <tr style=\"text-align: right;\">\n",
       "      <th></th>\n",
       "      <th>total_album_purchases</th>\n",
       "      <th>album_purchase_percentage</th>\n",
       "    </tr>\n",
       "  </thead>\n",
       "  <tbody>\n",
       "    <tr>\n",
       "      <th>0</th>\n",
       "      <td>171</td>\n",
       "      <td>27.850163</td>\n",
       "    </tr>\n",
       "  </tbody>\n",
       "</table>\n",
       "</div>"
      ],
      "text/plain": [
       "   total_album_purchases  album_purchase_percentage\n",
       "0                    171                  27.850163"
      ]
     },
     "execution_count": 14,
     "metadata": {},
     "output_type": "execute_result"
    }
   ],
   "source": [
    "run_query(''' WITH\n",
    "             invoice_tracks AS\n",
    "             (\n",
    "                SELECT \n",
    "                    i.invoice_id,\n",
    "                    i.track_id,\n",
    "                    t.album_id\n",
    "                FROM invoice_line i\n",
    "                INNER JOIN track t ON t.track_id = i.track_id\n",
    "                GROUP BY 1, 3\n",
    "             ), sort_purchase_type AS\n",
    "             (\n",
    "                SELECT \n",
    "                    i.invoice_id,\n",
    "                    CASE\n",
    "                        WHEN COUNT(i.invoice_id) = 1 THEN 1\n",
    "                        ELSE 0\n",
    "                    END album_purchase\n",
    "                FROM invoice_tracks i\n",
    "                GROUP BY invoice_id\n",
    "                 )\n",
    "            SELECT \n",
    "                COUNT(invoice_id) total_album_purchases,\n",
    "                CAST(COUNT(invoice_id) as float) / \n",
    "                CAST((SELECT COUNT(DISTINCT invoice_id)\n",
    "                      FROM invoice_tracks) as float) * 100 album_purchase_percentage \n",
    "                FROM sort_purchase_type\n",
    "                WHERE album_purchase = 1\n",
    "             ;''')\n"
   ]
  },
  {
   "cell_type": "markdown",
   "metadata": {
    "collapsed": true
   },
   "source": [
    "So that is the answer you get with that query. The only problem is that it is significantly off the DataQuest solution (higher by 10 percentage points!). \n",
    "\n",
    "My guess is that there are some invoices that only consist of songs from one album, but do not consititute an album purchase because the customer only bought a few of the songs instead of all of them. That would explain why this method gets such as higher percentage of album purchases.\n",
    "\n",
    "I doubled-checked the code submitted by the user in the Q&A forum and they got the same answer I did above^^. \n",
    "\n",
    "Next up, the DataQuest solution which can be found [here](https://github.com/dataquestio/solutions/blob/master/Mission191Solutions.ipynb). "
   ]
  },
  {
   "cell_type": "code",
   "execution_count": 17,
   "metadata": {
    "collapsed": false
   },
   "outputs": [
    {
     "data": {
      "text/html": [
       "<div>\n",
       "<table border=\"1\" class=\"dataframe\">\n",
       "  <thead>\n",
       "    <tr style=\"text-align: right;\">\n",
       "      <th></th>\n",
       "      <th>album_purchase</th>\n",
       "      <th>number_of_invoices</th>\n",
       "      <th>percent</th>\n",
       "    </tr>\n",
       "  </thead>\n",
       "  <tbody>\n",
       "    <tr>\n",
       "      <th>0</th>\n",
       "      <td>no</td>\n",
       "      <td>500</td>\n",
       "      <td>0.814332</td>\n",
       "    </tr>\n",
       "    <tr>\n",
       "      <th>1</th>\n",
       "      <td>yes</td>\n",
       "      <td>114</td>\n",
       "      <td>0.185668</td>\n",
       "    </tr>\n",
       "  </tbody>\n",
       "</table>\n",
       "</div>"
      ],
      "text/plain": [
       "  album_purchase  number_of_invoices   percent\n",
       "0             no                 500  0.814332\n",
       "1            yes                 114  0.185668"
      ]
     },
     "execution_count": 17,
     "metadata": {},
     "output_type": "execute_result"
    }
   ],
   "source": [
    "albums_vs_tracks = '''\n",
    "WITH invoice_first_track AS\n",
    "    (\n",
    "     SELECT\n",
    "         il.invoice_id invoice_id,\n",
    "         MIN(il.track_id) first_track_id\n",
    "     FROM invoice_line il\n",
    "     GROUP BY 1\n",
    "    )\n",
    "\n",
    "SELECT\n",
    "    album_purchase,\n",
    "    COUNT(invoice_id) number_of_invoices,\n",
    "    CAST(count(invoice_id) AS FLOAT) / (\n",
    "                                         SELECT COUNT(*) FROM invoice\n",
    "                                      ) percent\n",
    "FROM\n",
    "    (\n",
    "    SELECT\n",
    "        ifs.*,\n",
    "        CASE\n",
    "            WHEN\n",
    "                 (\n",
    "                  SELECT t.track_id FROM track t\n",
    "                  WHERE t.album_id = (\n",
    "                                      SELECT t2.album_id FROM track t2\n",
    "                                      WHERE t2.track_id = ifs.first_track_id\n",
    "                                     ) \n",
    "\n",
    "                  EXCEPT \n",
    "\n",
    "                  SELECT il2.track_id FROM invoice_line il2\n",
    "                  WHERE il2.invoice_id = ifs.invoice_id\n",
    "                 ) IS NULL\n",
    "             AND\n",
    "                 (\n",
    "                  SELECT il2.track_id FROM invoice_line il2\n",
    "                  WHERE il2.invoice_id = ifs.invoice_id\n",
    "\n",
    "                  EXCEPT \n",
    "\n",
    "                  SELECT t.track_id FROM track t\n",
    "                  WHERE t.album_id = (\n",
    "                                      SELECT t2.album_id FROM track t2\n",
    "                                      WHERE t2.track_id = ifs.first_track_id\n",
    "                                     ) \n",
    "                 ) IS NULL\n",
    "             THEN \"yes\"\n",
    "             ELSE \"no\"\n",
    "         END AS \"album_purchase\"\n",
    "     FROM invoice_first_track ifs\n",
    "    )\n",
    "GROUP BY album_purchase;\n",
    "'''\n",
    "\n",
    "run_query(albums_vs_tracks)"
   ]
  },
  {
   "cell_type": "markdown",
   "metadata": {},
   "source": [
    "## Solutions\n",
    "\n",
    "- *DataQuest*:\n",
    "    - Technically, this is __the__ solution since the the first \"solution\" turned out to be false. \n",
    "    - DataQuest used the `EXCEPT` set operation as they suggested in the instructions, but it was used as a subquery in a `FROM` clause to create a table upon which to draw the final solution.\n",
    "    - Additionally, the key here was the subquery that created a table that contained only the `invoice_id` and the `first_track_id` queried above using the `MIN()` method. This allowed the `EXCEPT` section of the to work on the correct sections of the larger table by utilizing `WHERE` clauses to indicate which tracks to compare.  \n",
    "    - In the solutions notebook, Dataquest did not recommend switching up their purchasing strategy as they would potentially lose about a fifth of revenue."
   ]
  },
  {
   "cell_type": "markdown",
   "metadata": {},
   "source": [
    "Last, but not least (well, probably least as this is a SQL course), the way I wanted to handle this problem:"
   ]
  },
  {
   "cell_type": "code",
   "execution_count": null,
   "metadata": {
    "collapsed": true
   },
   "outputs": [],
   "source": [
    "run_query('''SELECT\n",
    "                i.invoice_id,\n",
    "                i.track_id,\n",
    "                t.album_id\n",
    "             FROM invoice_line i\n",
    "             INNER JOIN track t ON i.track_id = t.track_id\n",
    "             LIMIT 10;''')"
   ]
  },
  {
   "cell_type": "code",
   "execution_count": null,
   "metadata": {
    "collapsed": true
   },
   "outputs": [],
   "source": []
  }
 ],
 "metadata": {
  "kernelspec": {
   "display_name": "Python 3",
   "language": "python",
   "name": "python3"
  },
  "language_info": {
   "codemirror_mode": {
    "name": "ipython",
    "version": 3
   },
   "file_extension": ".py",
   "mimetype": "text/x-python",
   "name": "python",
   "nbconvert_exporter": "python",
   "pygments_lexer": "ipython3",
   "version": "3.4.3"
  }
 },
 "nbformat": 4,
 "nbformat_minor": 2
}
